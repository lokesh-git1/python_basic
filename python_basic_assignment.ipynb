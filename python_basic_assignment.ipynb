{
 "cells": [
  {
   "cell_type": "raw",
   "id": "fa043c9e-cade-41dd-bd5c-e7b0a7963238",
   "metadata": {},
   "source": [
    "QUESTION NO.  1.  Explain the key features of Python that make it a popular choice for programming ?\n",
    "\n",
    "     Ans= It is simply use language , interpreted, interactive, and object-oriented language, and it is  versatile and powerful.\n",
    "        and having extensive libraries. And have a simple syntax just like a english language."
   ]
  },
  {
   "cell_type": "code",
   "execution_count": null,
   "id": "cebe1ea9-039f-4fcc-b44b-819a2710701c",
   "metadata": {},
   "outputs": [],
   "source": [
    "# QUESTION NO. 2. Describe the role of predefined keywords in Python and provide examples of how they are used in a  program ?\n",
    "\n",
    "'''ans=> Python Keywords are  predefined and reserved words that have special meanings. Keywords are used to define the syntax of the coding.\n",
    "       The keyword cannot be used as an identifier, function, or variable name. '''\n",
    "#  example of True, False, and, or, not keywords\n",
    "\n",
    "#  compare two operands using and operator\n",
    "    print(True and False)\n",
    "\n",
    "# compare two operands using or operator\n",
    "     print(True or False)\n",
    "\n",
    "# use of not operator\n",
    "     print(not False)\n"
   ]
  },
  {
   "cell_type": "code",
   "execution_count": null,
   "id": "08fa3bc8-cc37-412c-91d8-c891b4abc481",
   "metadata": {},
   "outputs": [],
   "source": [
    "# QUESTION NO.  3. Compare and contrast mutable and immutable objects in Python with examples ?\n",
    "\n",
    "''' ans=> MUTABLE OBJECTS: These are objects whose value can be changed after they created.\n",
    "           Examples like lists, dictionaries and sets '''\n",
    " # example in a list \n",
    "list = [1,\"arun\",2,True]\n",
    "list.append(100)  # modifies the list \n",
    "\n",
    "'''      IMMUTABLE OBJECTS:  These objects whose value cannot be changed once they are created . \n",
    "           Example like strings , integers , tuples , frozensets, floats. '''\n",
    " #  example in  a tuple\n",
    "tuple = (1,5,8,9)\n",
    "tuple.append(\"asif\") #  This will raise the typeerror as tuples are immutables\n"
   ]
  },
  {
   "cell_type": "raw",
   "id": "f9ed0aa6-f2e4-4198-b389-16a120d6f396",
   "metadata": {},
   "source": [
    "# QUESTION NO. 4 . Discuss the different types of operators in Python and provide examples of how they are used ? \n",
    "\n",
    "''' Ans=>  in python there various types of operators , each having specific purpose in operation and expression. \n",
    "\n",
    "    1.Arthmatics Operators \n",
    "      These operators are used to perform basic maathematical operations like \n",
    "        Addition:[+] (eg : 10 +20 = 30 )     ,   Subrsction: [-] (eg: 20 -10 = 10) ,    Multiplication[*],   \n",
    "        Division [/],        Modulus[%] ,    Exponentiation[**]\n",
    "       \n",
    "    2. Assignment Operators \n",
    "        These operators are used to assign values to variables. They can also perform operations and assign the result back to the variable.\n",
    "        Assignment: = (eg: a=10)   \n",
    "        Addition Assignment: += (eg: a += 10 with is equivalent to a = a + 10)\n",
    "        Subtraction Assignment: -= (eg: a -= 10  with is equivalent to a = a - 10)\n",
    "        Multiplication Assignment: *= \n",
    "        Division Assignment: /= \n",
    "        Remainder Assignment: %=\n",
    "        Exponent Assignment: **= \n",
    "   3. Comparison Operators\n",
    "        These operators are used to compare values and return a boolean result.\n",
    "\n",
    "        Equal: == (eg., 4 == 5 is not true)\n",
    "        Not Equal: != (eg., 4 != 5 is true)\n",
    "        Greater Than: > (eg., 4 > 5 is not true)\n",
    "        Less Than: < \n",
    "        Greater Than or Equal to: >= \n",
    "        Less Than or Equal to: <=\n",
    "        \n",
    "   4. Logical Operators\n",
    "        These operators are used to combine conditional statements.\n",
    "\n",
    "         AND: and (eg:  (a and b) is true if both a and b are true)\n",
    "         OR: or (eg:  (a or b) is true if either a or b is true)\n",
    "         NOT: not (eg:  not(a and b) is false if a and b is true)\n",
    "         \n",
    "    5. Bitwise Operators\n",
    "         These operators perform operations on bits and are used to manipulate data at the bit level.\n",
    "\n",
    "            Binary AND: & (eg: Sets each bit to 1 if both bits are 1)\n",
    "            Binary OR: | (eg: Sets each bit to 1 if one of the two bits is 1)\n",
    "            Binary XOR: ^ (eg: Sets each bit to 1 if only one of two bits is 1)\n",
    "            Binary Left Shift: << (shift the bits to th left by a specified no. of position , filling 0's of the right ) \n",
    "                          [eg: 10<<2 as 10 in binary>  1010  so it get 101000[40] two zeros add from the left ] \n",
    "             \n",
    "            Binary Right Shift: >>  \n",
    "\n",
    "\n",
    "     6. Identity Operators\n",
    "            These operators are used to compare the memory locations of two objects.\n",
    "\n",
    "               is: as its true if the variables on either side of the operator point to the same object (eg: x is y)\n",
    "               is no : as its  true if the variables on either side of the operator do not point to the same object (eg: x is not y)     \n",
    "\n",
    "      7. Membership Operators\n",
    "            These operators are used to test if a sequence is presented in an object.\n",
    "\n",
    "            in: as its true if it finds a variable in the specified sequence (eg: x in y)\n",
    "            not in: as its  true if it does not find a variable in the specified sequence (eg: x not in y ) '''\n",
    "                           "
   ]
  },
  {
   "cell_type": "code",
   "execution_count": null,
   "id": "a4ba3a95-cc75-430f-994b-fb34cb99fb55",
   "metadata": {},
   "outputs": [],
   "source": [
    "# QUESTION NO. 5. Explain the concept of type casting in Python with examples ?\n",
    "\n",
    "''' Ans=> Type casting or  type conversion is the process of changing an object's data type from one type to another in Python.\n",
    "           There can be two types of Type Casting in Python:\n",
    "               1. implicit type \n",
    "               2. explicit type    '''\n",
    "\n",
    "# 1. Implicit Type: In this method Python converts the datatype into another datatype automatically.\n",
    " #  implicit type casting \n",
    "a = 7 # here a to int. python automatically convert\n",
    "type(a)\n",
    "\n",
    "#  2. Explicit Type : In this method Python needs user involvement to convert the variable data type into the required data type.\n",
    "a = 5 #int variable \n",
    "n = float(a) # here type cast to float \n",
    "print(n)\n",
    "type(n)"
   ]
  },
  {
   "cell_type": "code",
   "execution_count": null,
   "id": "e795ed08-a93b-47eb-a67b-7e4f9ef4d5af",
   "metadata": {},
   "outputs": [],
   "source": [
    "# QUESTION NO. 6. How do conditional statements work in Python? Illustrate with examples ?\n",
    "  '''Ans => In python conditional statements are used to execute code based on certain condition \n",
    "         Python supports the usual logical conditions from mathematics:\n",
    "            equals: a == b , Not equal : a != b , Less than: a < b  , Less than or equal to: a <= b , Greater than: a > b  ,Greater than or equal a >= b \n",
    "      So these condition used in different ways commonly used in \"if statement\" or \"loop\" '''\n",
    "# if statement  \n",
    "a= 10 \n",
    "b = 25\n",
    "if(a<b):\n",
    "    print(\"b is greater than a\")\n",
    "\n",
    "# elif : if the previous conditions were not true then try this condition\n",
    "a= 20 \n",
    "b =20\n",
    "if(a<b):\n",
    "    print(\"a is smaller than b\")\n",
    "elif(a==b):\n",
    "    print(\"a is equal to b \")\n",
    "    "
   ]
  },
  {
   "cell_type": "code",
   "execution_count": null,
   "id": "a556d7e1-13b5-49c5-bd3a-7ed4f6abe2a7",
   "metadata": {
    "scrolled": true
   },
   "outputs": [
    {
     "name": "stdout",
     "output_type": "stream",
     "text": [
      "\n",
      "\n",
      "\n",
      "\n",
      "\n",
      "\n",
      "\n",
      "\n",
      "\n"
     ]
    }
   ],
   "source": [
    "# QUESTION NO.7. Describe the different types of loops in Python and their use cases with examples?\n",
    "''' Ans=> Python has two primitive loop commands:\n",
    "        1. while loops\n",
    "        2. for loops   '''\n",
    "# 1. While loop : we can execute a set of statements as long as a condition is true. \n",
    "# ex: print the no. from 1 to 9\n",
    "i = 1\n",
    "while(i<10):\n",
    "    print()\n",
    "    i +=1\n",
    "        \n",
    "# 2. For loop: A for loop is used for iterating over a sequence.With the for loop we can execute a set of statement  once for each item in a list, tuple, set etc.\n",
    "# ex: as multiplication table\n",
    "n = int(input(\"enter the no:\"))\n",
    "for i in range(1,11):\n",
    "    print(f\"{n} x{i} = {n*i}\")\n"
   ]
  },
  {
   "cell_type": "code",
   "execution_count": null,
   "id": "b784a2ee-522d-453d-84ad-92e3d45270f8",
   "metadata": {},
   "outputs": [],
   "source": []
  }
 ],
 "metadata": {
  "kernelspec": {
   "display_name": "Python [conda env:base] *",
   "language": "python",
   "name": "conda-base-py"
  },
  "language_info": {
   "codemirror_mode": {
    "name": "ipython",
    "version": 3
   },
   "file_extension": ".py",
   "mimetype": "text/x-python",
   "name": "python",
   "nbconvert_exporter": "python",
   "pygments_lexer": "ipython3",
   "version": "3.12.7"
  }
 },
 "nbformat": 4,
 "nbformat_minor": 5
}
